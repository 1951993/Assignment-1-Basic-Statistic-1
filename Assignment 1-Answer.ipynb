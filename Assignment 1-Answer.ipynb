{
 "cells": [
  {
   "cell_type": "markdown",
   "metadata": {},
   "source": [
    "# Assignment No. 1"
   ]
  },
  {
   "cell_type": "markdown",
   "metadata": {},
   "source": [
    "## Q7) Calculate Mean, Median, Mode, Variance, Standard Deviation, Range &     comment about the values / draw inferences, for the given dataset"
   ]
  },
  {
   "cell_type": "code",
   "execution_count": 7,
   "metadata": {},
   "outputs": [],
   "source": [
    "import pandas as pd\n",
    "import numpy as np\n",
    "from scipy import stats\n",
    "import seaborn as sns"
   ]
  },
  {
   "cell_type": "code",
   "execution_count": 8,
   "metadata": {},
   "outputs": [],
   "source": [
    "q7 = pd.read_csv(r'C:/Users/fast/Desktop/Assignment/Basic Statistic 1-Done/Q7.csv')"
   ]
  },
  {
   "cell_type": "code",
   "execution_count": 11,
   "metadata": {},
   "outputs": [
    {
     "name": "stdout",
     "output_type": "stream",
     "text": [
      "Mean of Points: 3.5965625000000006\n",
      "Mean of Score: 3.2172499999999995\n",
      "Mean of Weigh: 17.848750000000003\n"
     ]
    }
   ],
   "source": [
    "#Mean\n",
    "print('Mean of Points:', np.mean(q7['Points']))\n",
    "print('Mean of Score:', np.mean (q7['Score']))\n",
    "print('Mean of Weigh:', np.mean (q7['Weigh']))"
   ]
  },
  {
   "cell_type": "code",
   "execution_count": 14,
   "metadata": {},
   "outputs": [
    {
     "name": "stdout",
     "output_type": "stream",
     "text": [
      "Median of Points: 3.6950000000000003\n",
      "Median of Score: 3.325\n",
      "Median of Weigh: 17.71\n"
     ]
    }
   ],
   "source": [
    "#Median\n",
    "print('Median of Points:', np.median(q7['Points']))\n",
    "print('Median of Score:', np.median(q7['Score']))\n",
    "print('Median of Weigh:', np.median(q7['Weigh']))"
   ]
  },
  {
   "cell_type": "code",
   "execution_count": 15,
   "metadata": {},
   "outputs": [
    {
     "name": "stdout",
     "output_type": "stream",
     "text": [
      "Mode of Points: ModeResult(mode=array([3.07]), count=array([3]))\n",
      "Mode of Score: ModeResult(mode=array([3.44]), count=array([3]))\n",
      "Mode of Weigh: ModeResult(mode=array([17.02]), count=array([2]))\n"
     ]
    }
   ],
   "source": [
    "#Mode\n",
    "print('Mode of Points:', stats.mode(q7['Points']))\n",
    "print('Mode of Score:', stats.mode(q7['Score']))\n",
    "print('Mode of Weigh:', stats.mode(q7['Weigh']))"
   ]
  },
  {
   "cell_type": "code",
   "execution_count": 16,
   "metadata": {},
   "outputs": [
    {
     "name": "stdout",
     "output_type": "stream",
     "text": [
      "Variance of Points: 0.27694755859375003\n",
      "Variance of Score: 0.9274608750000002\n",
      "Variance of Weigh: 3.0933796874999997\n"
     ]
    }
   ],
   "source": [
    "#Variance\n",
    "print('Variance of Points:', np.var(q7['Points']))\n",
    "print('Variance of Score:', np.var(q7['Score']))\n",
    "print('Variance of Weigh:', np.var(q7['Weigh']))"
   ]
  },
  {
   "cell_type": "code",
   "execution_count": 17,
   "metadata": {},
   "outputs": [
    {
     "name": "stdout",
     "output_type": "stream",
     "text": [
      "Standard Deviation of Points: 0.5262580722361891\n",
      "Standard Deviation of Score: 0.9630477013107919\n",
      "Standard Deviation of Weigh: 1.758800638929836\n"
     ]
    }
   ],
   "source": [
    "#Standard Deviation\n",
    "print('Standard Deviation of Points:', np.std(q7['Points']))\n",
    "print('Standard Deviation of Score:', np.std(q7['Score']))\n",
    "print('Standard Deviation of Weigh:', np.std(q7['Weigh']))"
   ]
  },
  {
   "cell_type": "code",
   "execution_count": 18,
   "metadata": {},
   "outputs": [
    {
     "name": "stdout",
     "output_type": "stream",
     "text": [
      "Range of Points: 2.17\n",
      "Range of Score: 3.9110000000000005\n",
      "Range of Weigh: 8.399999999999999\n"
     ]
    }
   ],
   "source": [
    "#Range\n",
    "print('Range of Points:', np.max(q7['Points'])-np.min(q7['Points']))\n",
    "print('Range of Score:', np.max(q7['Score'])-np.min(q7['Score']))\n",
    "print('Range of Weigh:', np.max(q7['Weigh'])-np.min(q7['Weigh']))"
   ]
  },
  {
   "cell_type": "markdown",
   "metadata": {},
   "source": [
    "## Q9) Calculate Skewness, Kurtosis & draw inferences on the following data "
   ]
  },
  {
   "cell_type": "markdown",
   "metadata": {},
   "source": [
    "### a) Cars speed and distance "
   ]
  },
  {
   "cell_type": "code",
   "execution_count": 19,
   "metadata": {},
   "outputs": [],
   "source": [
    "q_9a = pd.read_csv(r'C:/Users/fast/Desktop/Assignment/Basic Statistic 1-Done/Q9_a.csv')"
   ]
  },
  {
   "cell_type": "code",
   "execution_count": 20,
   "metadata": {},
   "outputs": [
    {
     "name": "stdout",
     "output_type": "stream",
     "text": [
      "Skewness:-\n",
      "Skewness for speed: -0.11395477012828319\n",
      "Skewness for Distance: 0.7824835173114966\n",
      "\n",
      "Kurtosis:-\n",
      "Kurtosis for Speed: -0.5771474239437371\n",
      "Kurtosis for Distance: 0.24801865717051808\n"
     ]
    }
   ],
   "source": [
    "#Skewness\n",
    "x = q_9a['speed']\n",
    "y = q_9a['dist']\n",
    "print('Skewness:-')\n",
    "print('Skewness for speed:', stats.skew(q_9a['speed']))\n",
    "print('Skewness for Distance:', stats.skew(q_9a['dist']))\n",
    "#Kurtosis\n",
    "print('\\nKurtosis:-')\n",
    "print('Kurtosis for Speed:', stats.kurtosis(q_9a['speed']))\n",
    "print('Kurtosis for Distance:', stats.kurtosis(q_9a['dist']))"
   ]
  },
  {
   "cell_type": "markdown",
   "metadata": {},
   "source": [
    "### b)SP and Weight(WT)"
   ]
  },
  {
   "cell_type": "code",
   "execution_count": 22,
   "metadata": {},
   "outputs": [
    {
     "name": "stdout",
     "output_type": "stream",
     "text": [
      "Skewness:-\n",
      "Skewness for SP: 1.5814536794423764\n",
      "Skewness for WT: -0.6033099322115126\n",
      "\n",
      "Kurtosis:-\n",
      "Kurtosis for SP: 2.7235214865269244\n",
      "Kurtosis for WT: 0.8194658792266849\n"
     ]
    }
   ],
   "source": [
    "q_9b = pd.read_csv(r'C:/Users/fast/Desktop/Assignment/Basic Statistic 1-Done/Q9_b.csv')\n",
    "#Skewness\n",
    "x = q_9b['SP']\n",
    "y = q_9b['WT']\n",
    "print('Skewness:-')\n",
    "print('Skewness for SP:', stats.skew(q_9b['SP']))\n",
    "print('Skewness for WT:', stats.skew(q_9b['WT']))\n",
    "#Kurtosis\n",
    "print('\\nKurtosis:-')\n",
    "print('Kurtosis for SP:', stats.kurtosis(q_9b['SP']))\n",
    "print('Kurtosis for WT:', stats.kurtosis(q_9b['WT']))"
   ]
  },
  {
   "cell_type": "markdown",
   "metadata": {},
   "source": [
    "## Q.11) Confidence Interval"
   ]
  },
  {
   "cell_type": "code",
   "execution_count": 40,
   "metadata": {},
   "outputs": [
    {
     "name": "stdout",
     "output_type": "stream",
     "text": [
      "Confidence Interval for 94%: 201.2623910556929 &  198.7376089443071\n",
      "Confidence Interval for 98%: 201.5618139516784 &  198.4381860483216\n",
      "Confidence Interval for 96%: 201.3785962570268 &  198.6214037429732\n"
     ]
    }
   ],
   "source": [
    "n = 2000\n",
    "x = 200\n",
    "s = 30\n",
    "\n",
    "# for 94%\n",
    "t = stats.t.ppf(0.97,df=1999)\n",
    "confidence_interval_1 = x + ((t*s)/(n**0.5))\n",
    "confidence_interval_2 = x - ((t*s)/(n**0.5))\n",
    "print('Confidence Interval for 94%:',confidence_interval_1,'& ', confidence_interval_2)\n",
    "\n",
    "#for 98%\n",
    "t = stats.t.ppf(0.99,df=1999)\n",
    "confidence_interval_1 = x + ((t*s)/(n**0.5))\n",
    "confidence_interval_2 = x - ((t*s)/(n**0.5))\n",
    "print('Confidence Interval for 98%:',confidence_interval_1,'& ', confidence_interval_2)\n",
    "\n",
    "#for 96%\n",
    "t = stats.t.ppf(0.98,df=1999)\n",
    "confidence_interval_1 = x + ((t*s)/(n**0.5))\n",
    "confidence_interval_2 = x - ((t*s)/(n**0.5))\n",
    "print('Confidence Interval for 96%:',confidence_interval_1,'& ', confidence_interval_2)"
   ]
  },
  {
   "cell_type": "markdown",
   "metadata": {},
   "source": [
    "## Q.12) Mean, Median, Mode, Variance, Standard Deviation"
   ]
  },
  {
   "cell_type": "code",
   "execution_count": 41,
   "metadata": {},
   "outputs": [
    {
     "name": "stdout",
     "output_type": "stream",
     "text": [
      "Mean of Marks: 41.0\n",
      "Median of Marks: 40.5\n",
      "Mode of Marks: ModeResult(mode=array([41]), count=array([4]))\n",
      "Variance of Marks: 24.11111111111111\n",
      "Standard Deviation of Marks: 4.910306620885412\n"
     ]
    }
   ],
   "source": [
    "marks = [34,36,36,38,38,39,39,40,40,41,41,41,41,42,42,45,49,56]\n",
    "print('Mean of Marks:', np.mean(marks))\n",
    "print('Median of Marks:', np.median(marks))\n",
    "print('Mode of Marks:', stats.mode(marks))\n",
    "print('Variance of Marks:', np.var(marks))\n",
    "print('Standard Deviation of Marks:', np.std(marks))"
   ]
  },
  {
   "cell_type": "markdown",
   "metadata": {},
   "source": [
    "## Q.20) Cars Probablity"
   ]
  },
  {
   "cell_type": "code",
   "execution_count": 23,
   "metadata": {},
   "outputs": [
    {
     "name": "stdout",
     "output_type": "stream",
     "text": [
      "Probability for (MPG>38):  0.34669238536888103\n",
      "Probability for (MPG<40):  0.7306083416219199\n",
      "Probability for (20<MPG<50):  0.9009686820346051\n"
     ]
    }
   ],
   "source": [
    "cars = pd.read_csv(r'C:/Users/fast/Desktop/Assignment/Basic Statistic 1-Done/Cars.csv')\n",
    "print('Probability for (MPG>38): ', (1-stats.norm.cdf(38, loc=(np.mean(cars['MPG'])),scale=(np.std(cars['MPG'])))))\n",
    "print('Probability for (MPG<40): ', (stats.norm.cdf(40, loc=(np.mean(cars['MPG'])),scale=(np.std(cars['MPG'])))))\n",
    "print('Probability for (20<MPG<50): ', ((stats.norm.cdf(50,loc=(np.mean(cars['MPG'])),scale=(np.std(cars['MPG']))))-\n",
    "                                        (stats.norm.cdf(20, loc=(np.mean(cars['MPG'])),scale=(np.std(cars['MPG']))))))"
   ]
  },
  {
   "cell_type": "markdown",
   "metadata": {},
   "source": [
    "## Q.22) Calculate Z scores"
   ]
  },
  {
   "cell_type": "code",
   "execution_count": 54,
   "metadata": {},
   "outputs": [
    {
     "name": "stdout",
     "output_type": "stream",
     "text": [
      "Z Score for 90 % Confidence Interval: 0.8289438736915182\n",
      "Z Score for 94 % Confidence Interval: 0.8339767539364704\n",
      "Z Score for 60 % Confidence Interval: 0.7881446014166034\n"
     ]
    }
   ],
   "source": [
    "print('Z Score for 90 % Confidence Interval:', stats.norm.cdf(0.95))\n",
    "print('Z Score for 94 % Confidence Interval:', stats.norm.cdf(0.97))\n",
    "print('Z Score for 60 % Confidence Interval:', stats.norm.cdf(0.80))"
   ]
  },
  {
   "cell_type": "markdown",
   "metadata": {},
   "source": [
    "## Q.23) Calculate T scores"
   ]
  },
  {
   "cell_type": "code",
   "execution_count": 56,
   "metadata": {},
   "outputs": [
    {
     "name": "stdout",
     "output_type": "stream",
     "text": [
      "T Score for 95 % Confidence Interval:  2.0638985616280205\n",
      "T Score for 96 % Confidence Interval:  2.1715446760080677\n",
      "T Score for 99 % Confidence Interval:  2.796939504772804\n"
     ]
    }
   ],
   "source": [
    "n=25\n",
    "print('T Score for 95 % Confidence Interval: ', stats.t.ppf(0.975, df=n-1))\n",
    "print('T Score for 96 % Confidence Interval: ', stats.t.ppf(0.98, df=n-1))\n",
    "print('T Score for 99 % Confidence Interval: ', stats.t.ppf(0.995, df=n-1))"
   ]
  },
  {
   "cell_type": "markdown",
   "metadata": {},
   "source": [
    "## Q.24) Probability for Bulbs"
   ]
  },
  {
   "cell_type": "code",
   "execution_count": 85,
   "metadata": {},
   "outputs": [
    {
     "name": "stdout",
     "output_type": "stream",
     "text": [
      "Probability for 18 bulbs with avrage life 260 days: 0.8283844782018448\n"
     ]
    }
   ],
   "source": [
    "n = 18\n",
    "x = 260\n",
    "s = 90\n",
    "u = 270\n",
    "t = stats.t.cdf(0.975,df=n-1)\n",
    "print('Probability for 18 bulbs with avrage life 260 days:',t)"
   ]
  },
  {
   "cell_type": "markdown",
   "metadata": {},
   "source": [
    "## Q.21) MPG "
   ]
  },
  {
   "cell_type": "markdown",
   "metadata": {},
   "source": [
    "### a) Cars"
   ]
  },
  {
   "cell_type": "code",
   "execution_count": 24,
   "metadata": {},
   "outputs": [
    {
     "name": "stdout",
     "output_type": "stream",
     "text": [
      "MPG of cars does NOT follows Normal Distribution Dataset\n"
     ]
    }
   ],
   "source": [
    "cars = pd.read_csv(r'C:/Users/fast/Desktop/Assignment/Basic Statistic 1-Done/Cars.csv')\n",
    "if ((cars['MPG']).mean() == (cars['MPG']).median() == stats.mode(cars['MPG']) ):\n",
    "    print('MPG of Cars follows the Normsal Distribution Dataset')\n",
    "else:\n",
    "    print('MPG of cars does NOT follows Normal Distribution Dataset')"
   ]
  },
  {
   "cell_type": "markdown",
   "metadata": {},
   "source": [
    "### b) AT & WC "
   ]
  },
  {
   "cell_type": "code",
   "execution_count": 25,
   "metadata": {},
   "outputs": [
    {
     "name": "stdout",
     "output_type": "stream",
     "text": [
      "AT DOES NOT follows Normal Distribution.\n",
      "Waist Does NOT follows Normal Distribution.\n"
     ]
    }
   ],
   "source": [
    "wc = pd.read_csv(r'C:/Users/fast/Desktop/Assignment/Basic Statistic 1-Done/wc-at.csv')\n",
    "if (((wc['AT']).mean() == (wc['AT']).median() == stats.mode(wc['AT']))):\n",
    "    print('AT Follows Normal Distribution Dataset.')\n",
    "else:\n",
    "    print('AT DOES NOT follows Normal Distribution.')\n",
    "if (((wc['Waist'].mean() == (wc['Waist'].median() == stats.mode(wc['Waist']))))):\n",
    "    print('Waist Follows Normal Distribution.')\n",
    "else:\n",
    "    print('Waist Does NOT follows Normal Distribution.')"
   ]
  },
  {
   "cell_type": "code",
   "execution_count": null,
   "metadata": {},
   "outputs": [],
   "source": []
  }
 ],
 "metadata": {
  "gist": {
   "data": {
    "description": "Desktop/Data Science/Assignment 1 Basic Stat/SN Assignment 1.ipynb",
    "public": true
   },
   "id": ""
  },
  "kernelspec": {
   "display_name": "Python 3",
   "language": "python",
   "name": "python3"
  },
  "language_info": {
   "codemirror_mode": {
    "name": "ipython",
    "version": 3
   },
   "file_extension": ".py",
   "mimetype": "text/x-python",
   "name": "python",
   "nbconvert_exporter": "python",
   "pygments_lexer": "ipython3",
   "version": "3.8.8"
  }
 },
 "nbformat": 4,
 "nbformat_minor": 4
}
